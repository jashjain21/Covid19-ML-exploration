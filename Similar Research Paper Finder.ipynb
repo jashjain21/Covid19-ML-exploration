{
 "cells": [
  {
   "cell_type": "markdown",
   "metadata": {},
   "source": [
    "# The goal is to find similar papers to the given research paper "
   ]
  },
  {
   "cell_type": "code",
   "execution_count": 2,
   "metadata": {},
   "outputs": [],
   "source": [
    "import pandas as pd\n",
    "from sklearn.neighbors import NearestNeighbors\n",
    "from sklearn.feature_extraction.text import TfidfVectorizer"
   ]
  },
  {
   "cell_type": "markdown",
   "metadata": {},
   "source": [
    "We start be reading the csv metadata file"
   ]
  },
  {
   "cell_type": "code",
   "execution_count": 3,
   "metadata": {},
   "outputs": [],
   "source": [
    "df = pd.read_csv(\"metadata2020.csv\",low_memory=False)"
   ]
  },
  {
   "cell_type": "markdown",
   "metadata": {},
   "source": [
    "Next we do the important task of cleaning the data"
   ]
  },
  {
   "cell_type": "code",
   "execution_count": 4,
   "metadata": {},
   "outputs": [
    {
     "name": "stdout",
     "output_type": "stream",
     "text": [
      "Starting cleaning...\n",
      "Clean complete...\n"
     ]
    }
   ],
   "source": [
    "print(\"Starting cleaning...\")\n",
    "# Cleaning data\n",
    "spec_chars = [\"!\", '\"', \"#\", \"%\", \"&\", \"'\", \"(\", \")\", \"*\", \"+\", \",\", \"-\", \".\", \"/\", \":\", \";\", \"<\",\n",
    "              \"=\", \">\", \"?\", \"@\", \"[\", \"\\\\\", \"]\", \"^\", \"_\", \"`\", \"{\", \"|\", \"}\", \"~\", \"–\"]\n",
    "for char in spec_chars:\n",
    "    df['title'] = df['title'].str.replace(char, ' ')\n",
    "    df['abstract'] = df['abstract'].str.replace(char, ' ')\n",
    "\n",
    "df['title'] = df['title'].str.split().str.join(\" \")\n",
    "df['abstract'] = df['abstract'].str.split().str.join(\" \")\n",
    "df['authors'] = df['authors'].str.split().str.join(\" \")\n",
    "print(\"Clean complete...\")"
   ]
  },
  {
   "cell_type": "markdown",
   "metadata": {},
   "source": [
    "Example of cleaned data"
   ]
  },
  {
   "cell_type": "code",
   "execution_count": 5,
   "metadata": {
    "scrolled": true
   },
   "outputs": [
    {
     "name": "stdout",
     "output_type": "stream",
     "text": [
      "BACKGROUND Dexmedetomidine has been reported to improve organ dysfunction in critically ill patients In a recent randomized controlled trial Dexmedetomidine for Sepsis in Intensive Care Unit ICU Randomized Evolution DESIRE we demonstrated that dexmedetomidine was associated with reduced mortality risk among patients with severe sepsis We performed this exploratory sub analysis to examine the mechanism underlying improved survival in patients sedated with dexmedetomidine METHODS The DESIRE trial compared a sedation strategy with and without dexmedetomidine among 201 mechanically ventilated adult patients with sepsis across eight ICUs in Japan In the present study we included 104 patients with Acute Physiology and Chronic Health Evaluation II APACHE II scores of ≥ 23 54 in the dexmedetomidine DEX group and 50 in the non dexmedetomidine non DEX group Initially we compared the changes in the sequential organ failure assessment SOFA scores from the baseline within 6 days after randomization between groups Subsequently we evaluated the variables comprising the organ component of the SOFA score that showed relevant improvement in the initial comparison RESULTS The mean patient age was 71 0 ± 14 1 years There was no difference in the median APACHE II score between the two groups 29 interquartile range IQR 25 31 vs 30 IQR 25 33 p 0 35 The median SOFA score at the baseline was lower in the DEX group 9 IQR 7 11 vs 11 IQR 9 13 p 0 01 While the renal SOFA subscore at the baseline was similar for both groups it significantly decreased in the DEX group on day 4 p 0 02 During the first 6 days the urinary output was not significantly different p 0 09 but serum creatinine levels were significantly lower p 0 04 in the DEX group The 28 day and in hospital mortality rates were significantly lower in the DEX group 22 vs 42 p 0 03 28 vs 52 p 0 01 respectively CONCLUSION A sedation strategy with dexmedetomidine is associated with improved renal function and decrease mortality rates among patients with severe sepsis TRIAL REGISTRATION This trial was registered on ClinicalTrials gov NCT01760967 on January 1 2013\n"
     ]
    }
   ],
   "source": [
    "print(df['abstract'][0])"
   ]
  },
  {
   "cell_type": "code",
   "execution_count": 6,
   "metadata": {},
   "outputs": [],
   "source": [
    "name = list(df[\"title\"])\n",
    "text = list(df[\"abstract\"].values.astype('U'))\n",
    "authors = list(df[\"authors\"])"
   ]
  },
  {
   "cell_type": "markdown",
   "metadata": {},
   "source": [
    "Converting the text into matrix"
   ]
  },
  {
   "cell_type": "code",
   "execution_count": 7,
   "metadata": {},
   "outputs": [],
   "source": [
    "vec = TfidfVectorizer()\n",
    "text_arr = vec.fit_transform(text)"
   ]
  },
  {
   "cell_type": "markdown",
   "metadata": {},
   "source": [
    "Create an object"
   ]
  },
  {
   "cell_type": "code",
   "execution_count": 8,
   "metadata": {},
   "outputs": [],
   "source": [
    "md = NearestNeighbors(metric=\"cosine\")"
   ]
  },
  {
   "cell_type": "markdown",
   "metadata": {},
   "source": [
    "Fit the data"
   ]
  },
  {
   "cell_type": "code",
   "execution_count": 9,
   "metadata": {},
   "outputs": [
    {
     "name": "stdout",
     "output_type": "stream",
     "text": [
      "Synchronising...\n"
     ]
    },
    {
     "data": {
      "text/plain": [
       "NearestNeighbors(algorithm='auto', leaf_size=30, metric='cosine',\n",
       "                 metric_params=None, n_jobs=None, n_neighbors=5, p=2,\n",
       "                 radius=1.0)"
      ]
     },
     "execution_count": 9,
     "metadata": {},
     "output_type": "execute_result"
    }
   ],
   "source": [
    "print(\"Synchronising...\")\n",
    "md.fit(text_arr)"
   ]
  },
  {
   "cell_type": "code",
   "execution_count": 31,
   "metadata": {},
   "outputs": [
    {
     "name": "stdout",
     "output_type": "stream",
     "text": [
      ">> Synthetic carbohydrate-based vaccines: challenges and opportunities\n",
      "Synthetic carbohydrate based vaccines  challenges and opportunities\n",
      "Sorry Page ain't available...\n",
      "Consider checking spelling...\n"
     ]
    }
   ],
   "source": [
    "buffer = {}\n",
    "predicted = False\n",
    "\n",
    "reader = input(\">> \")\n",
    "for char in spec_chars:\n",
    "    reader = reader.replace(char, ' ')\n",
    "reader = ''\n",
    "try:\n",
    "    print(reader)\n",
    "    if reader.isdigit() and predicted:\n",
    "        reader = name[buffer[int(reader)]]\n",
    "        buffer = {}\n",
    "\n",
    "    if reader in name:\n",
    "        try:\n",
    "            print(reader)\n",
    "            x = name.index(reader)\n",
    "            reader_text = text[x]\n",
    "            print(\"-\" * 30)\n",
    "            print(reader_text)\n",
    "            print(\"-\" * 30)\n",
    "            print(\"Authors:\", authors[x])\n",
    "            print(\"-\" * 30)\n",
    "            reader_text_arr = vec.transform([reader_text])\n",
    "\n",
    "            dist, ind = md.kneighbors(reader_text_arr, n_neighbors=6)\n",
    "            print(\"Suggestions for you...\")\n",
    "            j = 1\n",
    "            for i in ind[0][1:]:\n",
    "                predicted = True\n",
    "                print(j, \"\\b:\", name[i])\n",
    "                buffer[j] = i\n",
    "                j += 1\n",
    "\n",
    "        except Exception as e:\n",
    "            print(\">> 1:\")\n",
    "\n",
    "    else:\n",
    "        print(\"Sorry Page ain't available...\\nConsider checking spelling...\")\n",
    "except Exception as e1:\n",
    "    print(\">> 0:\")\n"
   ]
  },
  {
   "cell_type": "code",
   "execution_count": null,
   "metadata": {},
   "outputs": [],
   "source": []
  }
 ],
 "metadata": {
  "kernelspec": {
   "display_name": "Python 3",
   "language": "python",
   "name": "python3"
  },
  "language_info": {
   "codemirror_mode": {
    "name": "ipython",
    "version": 3
   },
   "file_extension": ".py",
   "mimetype": "text/x-python",
   "name": "python",
   "nbconvert_exporter": "python",
   "pygments_lexer": "ipython3",
   "version": "3.8.3"
  }
 },
 "nbformat": 4,
 "nbformat_minor": 4
}
